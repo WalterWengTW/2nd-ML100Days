{
 "cells": [
  {
   "cell_type": "markdown",
   "metadata": {},
   "source": [
    "# 作業1：\n",
    "\n",
    "請上 Kaggle, 在 Competitions 或 Dataset 中找一組競賽或資料並寫下：\n",
    "Data Set :\n",
    "Energy consumption of the Netherlands\n",
    "Electricity and Gas consumed in the Netherlands every year\n",
    "\n",
    "1.你選的這組資料為何重要\n",
    "\n",
    "透過資料了解能源使用(電力,天然氣)在每個地區有什麼樣的使用特徵\n",
    "用於預測能源使用趨勢用量的預測作為未來使用智慧電表以及能源策略\n",
    "(配置電廠，輸電線路，管線增設等)\n",
    "\n",
    "\n",
    "2.資料從何而來 (tips: 譬如提供者是誰、以什麼方式蒐集)\n",
    "\n",
    "荷蘭Enexis, Liander, Stedin地區官方提供之open data\n",
    "建築物電表，天然氣管線表頭\n",
    "\n",
    "\n",
    "3.蒐集而來的資料型態為何\n",
    "\n",
    "用電區域，管理機構，每條道路的建築用電總量, 躉購電廠，離峰用電時\n",
    "間能源使用比例，智慧電表建置比率等\n",
    "\n",
    "\n",
    "4.這組資料想解決的問題如何評估\n",
    "\n",
    "使用部分過去資料訓練model並驗證，驗證方式則可透過交叉驗證方法來評估預測模型好壞\n"
   ]
  },
  {
   "cell_type": "markdown",
   "metadata": {},
   "source": [
    "# 作業2：\n",
    "\n",
    "想像你經營一個自由載客車隊，你希望能透過數據分析以提升業績，請你思考並描述你如何規劃整體的分析/解決方案：\n",
    "\n",
    "1.核心問題為何 (tips：如何定義 「提升業績 & 你的假設」)\n",
    "\n",
    "2.資料從何而來 (tips：哪些資料可能會對你想問的問題產生影響 & 資料如何蒐集)\n",
    "\n",
    "3.蒐集而來的資料型態為何\n",
    "\n",
    "4.你要回答的問題，其如何評估 (tips：你的假設如何驗證)"
   ]
  },
  {
   "cell_type": "code",
   "execution_count": null,
   "metadata": {},
   "outputs": [],
   "source": [
    "作業3："
   ]
  }
 ],
 "metadata": {
  "kernelspec": {
   "display_name": "Python 3",
   "language": "python",
   "name": "python3"
  },
  "language_info": {
   "codemirror_mode": {
    "name": "ipython",
    "version": 3
   },
   "file_extension": ".py",
   "mimetype": "text/x-python",
   "name": "python",
   "nbconvert_exporter": "python",
   "pygments_lexer": "ipython3",
   "version": "3.6.8"
  }
 },
 "nbformat": 4,
 "nbformat_minor": 2
}
